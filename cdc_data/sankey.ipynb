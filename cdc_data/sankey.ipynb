{
 "cells": [
  {
   "metadata": {
    "ExecuteTime": {
     "end_time": "2024-10-03T00:43:18.279699Z",
     "start_time": "2024-10-03T00:43:18.275578Z"
    }
   },
   "cell_type": "code",
   "source": "import plotly.graph_objects as go",
   "id": "8f2dba01863577",
   "outputs": [],
   "execution_count": 10
  },
  {
   "metadata": {},
   "cell_type": "code",
   "source": [
    "fig = go.Figure(go.Sankey(\n",
    "    arrangement='snap',\n",
    "    node=dict(\n",
    "        label=[\"0\", \"1\", \"2\", \"3\", \"4\", \"5\"],\n",
    "        align='left'\n",
    "\n",
    "    ),\n",
    "    link=dict(\n",
    "        arrowlen=15,\n",
    "        source=[0, 1, 4, 2, 1],\n",
    "        target=[1, 4, 5, 4, 3],\n",
    "        value=[4, 2, 3, 1, 2]  \n",
    "    )\n",
    "))\n",
    "\n",
    "fig.show()"
   ],
   "id": "848c71266c68a20d",
   "outputs": [],
   "execution_count": null
  },
  {
   "metadata": {},
   "cell_type": "code",
   "outputs": [],
   "execution_count": null,
   "source": "",
   "id": "ecfea639bb6a35e"
  }
 ],
 "metadata": {
  "kernelspec": {
   "display_name": "Python 3",
   "language": "python",
   "name": "python3"
  },
  "language_info": {
   "codemirror_mode": {
    "name": "ipython",
    "version": 2
   },
   "file_extension": ".py",
   "mimetype": "text/x-python",
   "name": "python",
   "nbconvert_exporter": "python",
   "pygments_lexer": "ipython2",
   "version": "2.7.6"
  }
 },
 "nbformat": 4,
 "nbformat_minor": 5
}
